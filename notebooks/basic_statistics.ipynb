{
 "cells": [
  {
   "cell_type": "markdown",
   "id": "e4d9c308",
   "metadata": {},
   "source": [
    "# Statistics: Mean"
   ]
  },
  {
   "cell_type": "markdown",
   "id": "3960c3e2",
   "metadata": {},
   "source": [
    "**The variables are as follows:**\n",
    "\n",
    "Team\n",
    "\n",
    "League\n",
    "\n",
    "Year\n",
    "\n",
    "Runs Scored (RS)\n",
    "\n",
    "Runs Allowed (RA)\n",
    "\n",
    "Wins (W)\n",
    "\n",
    "On-Base Percentage (OBP)\n",
    "\n",
    "Slugging Percentage (SLG)\n",
    "\n",
    "Batting Average (BA)\n",
    "\n",
    "Playoffs (binary)\n",
    "\n",
    "RankSeason\n",
    "\n",
    "RankPlayoffs\n",
    "\n",
    "Games Played (G)\n",
    "\n",
    "Opponent On-Base Percentage (OOBP)\n",
    "\n",
    "Opponent Slugging Percentage (OSLG)"
   ]
  },
  {
   "cell_type": "code",
   "execution_count": 1,
   "id": "eea2a030",
   "metadata": {},
   "outputs": [
    {
     "name": "stdout",
     "output_type": "stream",
     "text": [
      "Sum(x[i], (i, 1, n))/n\n"
     ]
    }
   ],
   "source": [
    "from sympy import symbols, Sum, IndexedBase\n",
    "from sympy.abc import i, n\n",
    "import seaborn as sns\n",
    "\n",
    "# Define an indexed variable\n",
    "x = IndexedBase('x')\n",
    "\n",
    "# Define the expression for mean\n",
    "expr = Sum(x[i], (i, 1, n)) / n\n",
    "\n",
    "print(expr)"
   ]
  },
  {
   "cell_type": "code",
   "execution_count": 2,
   "id": "ead27385",
   "metadata": {},
   "outputs": [
    {
     "data": {
      "text/html": [
       "<div>\n",
       "<style scoped>\n",
       "    .dataframe tbody tr th:only-of-type {\n",
       "        vertical-align: middle;\n",
       "    }\n",
       "\n",
       "    .dataframe tbody tr th {\n",
       "        vertical-align: top;\n",
       "    }\n",
       "\n",
       "    .dataframe thead th {\n",
       "        text-align: right;\n",
       "    }\n",
       "</style>\n",
       "<table border=\"1\" class=\"dataframe\">\n",
       "  <thead>\n",
       "    <tr style=\"text-align: right;\">\n",
       "      <th></th>\n",
       "      <th>Team</th>\n",
       "      <th>League</th>\n",
       "      <th>Year</th>\n",
       "      <th>RS</th>\n",
       "      <th>RA</th>\n",
       "      <th>W</th>\n",
       "      <th>OBP</th>\n",
       "      <th>SLG</th>\n",
       "      <th>BA</th>\n",
       "      <th>Playoffs</th>\n",
       "      <th>RankSeason</th>\n",
       "      <th>RankPlayoffs</th>\n",
       "      <th>G</th>\n",
       "      <th>OOBP</th>\n",
       "      <th>OSLG</th>\n",
       "    </tr>\n",
       "  </thead>\n",
       "  <tbody>\n",
       "    <tr>\n",
       "      <th>0</th>\n",
       "      <td>ARI</td>\n",
       "      <td>NL</td>\n",
       "      <td>2012</td>\n",
       "      <td>734</td>\n",
       "      <td>688</td>\n",
       "      <td>81</td>\n",
       "      <td>0.328</td>\n",
       "      <td>0.418</td>\n",
       "      <td>0.259</td>\n",
       "      <td>0</td>\n",
       "      <td>NaN</td>\n",
       "      <td>NaN</td>\n",
       "      <td>162</td>\n",
       "      <td>0.317</td>\n",
       "      <td>0.415</td>\n",
       "    </tr>\n",
       "    <tr>\n",
       "      <th>1</th>\n",
       "      <td>ATL</td>\n",
       "      <td>NL</td>\n",
       "      <td>2012</td>\n",
       "      <td>700</td>\n",
       "      <td>600</td>\n",
       "      <td>94</td>\n",
       "      <td>0.320</td>\n",
       "      <td>0.389</td>\n",
       "      <td>0.247</td>\n",
       "      <td>1</td>\n",
       "      <td>4.0</td>\n",
       "      <td>5.0</td>\n",
       "      <td>162</td>\n",
       "      <td>0.306</td>\n",
       "      <td>0.378</td>\n",
       "    </tr>\n",
       "    <tr>\n",
       "      <th>2</th>\n",
       "      <td>BAL</td>\n",
       "      <td>AL</td>\n",
       "      <td>2012</td>\n",
       "      <td>712</td>\n",
       "      <td>705</td>\n",
       "      <td>93</td>\n",
       "      <td>0.311</td>\n",
       "      <td>0.417</td>\n",
       "      <td>0.247</td>\n",
       "      <td>1</td>\n",
       "      <td>5.0</td>\n",
       "      <td>4.0</td>\n",
       "      <td>162</td>\n",
       "      <td>0.315</td>\n",
       "      <td>0.403</td>\n",
       "    </tr>\n",
       "    <tr>\n",
       "      <th>3</th>\n",
       "      <td>BOS</td>\n",
       "      <td>AL</td>\n",
       "      <td>2012</td>\n",
       "      <td>734</td>\n",
       "      <td>806</td>\n",
       "      <td>69</td>\n",
       "      <td>0.315</td>\n",
       "      <td>0.415</td>\n",
       "      <td>0.260</td>\n",
       "      <td>0</td>\n",
       "      <td>NaN</td>\n",
       "      <td>NaN</td>\n",
       "      <td>162</td>\n",
       "      <td>0.331</td>\n",
       "      <td>0.428</td>\n",
       "    </tr>\n",
       "    <tr>\n",
       "      <th>4</th>\n",
       "      <td>CHC</td>\n",
       "      <td>NL</td>\n",
       "      <td>2012</td>\n",
       "      <td>613</td>\n",
       "      <td>759</td>\n",
       "      <td>61</td>\n",
       "      <td>0.302</td>\n",
       "      <td>0.378</td>\n",
       "      <td>0.240</td>\n",
       "      <td>0</td>\n",
       "      <td>NaN</td>\n",
       "      <td>NaN</td>\n",
       "      <td>162</td>\n",
       "      <td>0.335</td>\n",
       "      <td>0.424</td>\n",
       "    </tr>\n",
       "    <tr>\n",
       "      <th>...</th>\n",
       "      <td>...</td>\n",
       "      <td>...</td>\n",
       "      <td>...</td>\n",
       "      <td>...</td>\n",
       "      <td>...</td>\n",
       "      <td>...</td>\n",
       "      <td>...</td>\n",
       "      <td>...</td>\n",
       "      <td>...</td>\n",
       "      <td>...</td>\n",
       "      <td>...</td>\n",
       "      <td>...</td>\n",
       "      <td>...</td>\n",
       "      <td>...</td>\n",
       "      <td>...</td>\n",
       "    </tr>\n",
       "    <tr>\n",
       "      <th>1227</th>\n",
       "      <td>PHI</td>\n",
       "      <td>NL</td>\n",
       "      <td>1962</td>\n",
       "      <td>705</td>\n",
       "      <td>759</td>\n",
       "      <td>81</td>\n",
       "      <td>0.330</td>\n",
       "      <td>0.390</td>\n",
       "      <td>0.260</td>\n",
       "      <td>0</td>\n",
       "      <td>NaN</td>\n",
       "      <td>NaN</td>\n",
       "      <td>161</td>\n",
       "      <td>NaN</td>\n",
       "      <td>NaN</td>\n",
       "    </tr>\n",
       "    <tr>\n",
       "      <th>1228</th>\n",
       "      <td>PIT</td>\n",
       "      <td>NL</td>\n",
       "      <td>1962</td>\n",
       "      <td>706</td>\n",
       "      <td>626</td>\n",
       "      <td>93</td>\n",
       "      <td>0.321</td>\n",
       "      <td>0.394</td>\n",
       "      <td>0.268</td>\n",
       "      <td>0</td>\n",
       "      <td>NaN</td>\n",
       "      <td>NaN</td>\n",
       "      <td>161</td>\n",
       "      <td>NaN</td>\n",
       "      <td>NaN</td>\n",
       "    </tr>\n",
       "    <tr>\n",
       "      <th>1229</th>\n",
       "      <td>SFG</td>\n",
       "      <td>NL</td>\n",
       "      <td>1962</td>\n",
       "      <td>878</td>\n",
       "      <td>690</td>\n",
       "      <td>103</td>\n",
       "      <td>0.341</td>\n",
       "      <td>0.441</td>\n",
       "      <td>0.278</td>\n",
       "      <td>1</td>\n",
       "      <td>1.0</td>\n",
       "      <td>2.0</td>\n",
       "      <td>165</td>\n",
       "      <td>NaN</td>\n",
       "      <td>NaN</td>\n",
       "    </tr>\n",
       "    <tr>\n",
       "      <th>1230</th>\n",
       "      <td>STL</td>\n",
       "      <td>NL</td>\n",
       "      <td>1962</td>\n",
       "      <td>774</td>\n",
       "      <td>664</td>\n",
       "      <td>84</td>\n",
       "      <td>0.335</td>\n",
       "      <td>0.394</td>\n",
       "      <td>0.271</td>\n",
       "      <td>0</td>\n",
       "      <td>NaN</td>\n",
       "      <td>NaN</td>\n",
       "      <td>163</td>\n",
       "      <td>NaN</td>\n",
       "      <td>NaN</td>\n",
       "    </tr>\n",
       "    <tr>\n",
       "      <th>1231</th>\n",
       "      <td>WSA</td>\n",
       "      <td>AL</td>\n",
       "      <td>1962</td>\n",
       "      <td>599</td>\n",
       "      <td>716</td>\n",
       "      <td>60</td>\n",
       "      <td>0.308</td>\n",
       "      <td>0.373</td>\n",
       "      <td>0.250</td>\n",
       "      <td>0</td>\n",
       "      <td>NaN</td>\n",
       "      <td>NaN</td>\n",
       "      <td>162</td>\n",
       "      <td>NaN</td>\n",
       "      <td>NaN</td>\n",
       "    </tr>\n",
       "  </tbody>\n",
       "</table>\n",
       "<p>1232 rows × 15 columns</p>\n",
       "</div>"
      ],
      "text/plain": [
       "     Team League  Year   RS   RA    W    OBP    SLG     BA  Playoffs  \\\n",
       "0     ARI     NL  2012  734  688   81  0.328  0.418  0.259         0   \n",
       "1     ATL     NL  2012  700  600   94  0.320  0.389  0.247         1   \n",
       "2     BAL     AL  2012  712  705   93  0.311  0.417  0.247         1   \n",
       "3     BOS     AL  2012  734  806   69  0.315  0.415  0.260         0   \n",
       "4     CHC     NL  2012  613  759   61  0.302  0.378  0.240         0   \n",
       "...   ...    ...   ...  ...  ...  ...    ...    ...    ...       ...   \n",
       "1227  PHI     NL  1962  705  759   81  0.330  0.390  0.260         0   \n",
       "1228  PIT     NL  1962  706  626   93  0.321  0.394  0.268         0   \n",
       "1229  SFG     NL  1962  878  690  103  0.341  0.441  0.278         1   \n",
       "1230  STL     NL  1962  774  664   84  0.335  0.394  0.271         0   \n",
       "1231  WSA     AL  1962  599  716   60  0.308  0.373  0.250         0   \n",
       "\n",
       "      RankSeason  RankPlayoffs    G   OOBP   OSLG  \n",
       "0            NaN           NaN  162  0.317  0.415  \n",
       "1            4.0           5.0  162  0.306  0.378  \n",
       "2            5.0           4.0  162  0.315  0.403  \n",
       "3            NaN           NaN  162  0.331  0.428  \n",
       "4            NaN           NaN  162  0.335  0.424  \n",
       "...          ...           ...  ...    ...    ...  \n",
       "1227         NaN           NaN  161    NaN    NaN  \n",
       "1228         NaN           NaN  161    NaN    NaN  \n",
       "1229         1.0           2.0  165    NaN    NaN  \n",
       "1230         NaN           NaN  163    NaN    NaN  \n",
       "1231         NaN           NaN  162    NaN    NaN  \n",
       "\n",
       "[1232 rows x 15 columns]"
      ]
     },
     "execution_count": 2,
     "metadata": {},
     "output_type": "execute_result"
    }
   ],
   "source": [
    "import pandas as pd\n",
    "data = pd.read_csv(\"C:\\\\Users\\\\Farzana Saif\\\\Downloads\\\\archive\\\\baseball.csv\")\n",
    "#print (data)\n",
    "data\n",
    "#data.shape"
   ]
  },
  {
   "cell_type": "code",
   "execution_count": 3,
   "id": "d02a3f7e",
   "metadata": {},
   "outputs": [
    {
     "data": {
      "text/plain": [
       "Index(['Team', 'League', 'Year', 'RS', 'RA', 'W', 'OBP', 'SLG', 'BA',\n",
       "       'Playoffs', 'RankSeason', 'RankPlayoffs', 'G', 'OOBP', 'OSLG'],\n",
       "      dtype='object')"
      ]
     },
     "execution_count": 3,
     "metadata": {},
     "output_type": "execute_result"
    }
   ],
   "source": [
    "data.columns"
   ]
  },
  {
   "cell_type": "code",
   "execution_count": 4,
   "id": "c6bb3ad6",
   "metadata": {},
   "outputs": [
    {
     "data": {
      "text/plain": [
       "Team             object\n",
       "League           object\n",
       "Year              int64\n",
       "RS                int64\n",
       "RA                int64\n",
       "W                 int64\n",
       "OBP             float64\n",
       "SLG             float64\n",
       "BA              float64\n",
       "Playoffs          int64\n",
       "RankSeason      float64\n",
       "RankPlayoffs    float64\n",
       "G                 int64\n",
       "OOBP            float64\n",
       "OSLG            float64\n",
       "dtype: object"
      ]
     },
     "execution_count": 4,
     "metadata": {},
     "output_type": "execute_result"
    }
   ],
   "source": [
    "data.dtypes"
   ]
  },
  {
   "cell_type": "code",
   "execution_count": 5,
   "id": "cce7a2bf",
   "metadata": {},
   "outputs": [
    {
     "data": {
      "text/html": [
       "<div>\n",
       "<style scoped>\n",
       "    .dataframe tbody tr th:only-of-type {\n",
       "        vertical-align: middle;\n",
       "    }\n",
       "\n",
       "    .dataframe tbody tr th {\n",
       "        vertical-align: top;\n",
       "    }\n",
       "\n",
       "    .dataframe thead th {\n",
       "        text-align: right;\n",
       "    }\n",
       "</style>\n",
       "<table border=\"1\" class=\"dataframe\">\n",
       "  <thead>\n",
       "    <tr style=\"text-align: right;\">\n",
       "      <th></th>\n",
       "      <th>count</th>\n",
       "      <th>mean</th>\n",
       "      <th>std</th>\n",
       "      <th>min</th>\n",
       "      <th>25%</th>\n",
       "      <th>50%</th>\n",
       "      <th>75%</th>\n",
       "      <th>max</th>\n",
       "    </tr>\n",
       "  </thead>\n",
       "  <tbody>\n",
       "    <tr>\n",
       "      <th>Year</th>\n",
       "      <td>1232.0</td>\n",
       "      <td>1988.957792</td>\n",
       "      <td>14.819625</td>\n",
       "      <td>1962.000</td>\n",
       "      <td>1976.750</td>\n",
       "      <td>1989.000</td>\n",
       "      <td>2002.000</td>\n",
       "      <td>2012.000</td>\n",
       "    </tr>\n",
       "    <tr>\n",
       "      <th>RS</th>\n",
       "      <td>1232.0</td>\n",
       "      <td>715.081981</td>\n",
       "      <td>91.534294</td>\n",
       "      <td>463.000</td>\n",
       "      <td>652.000</td>\n",
       "      <td>711.000</td>\n",
       "      <td>775.000</td>\n",
       "      <td>1009.000</td>\n",
       "    </tr>\n",
       "    <tr>\n",
       "      <th>RA</th>\n",
       "      <td>1232.0</td>\n",
       "      <td>715.081981</td>\n",
       "      <td>93.079933</td>\n",
       "      <td>472.000</td>\n",
       "      <td>649.750</td>\n",
       "      <td>709.000</td>\n",
       "      <td>774.250</td>\n",
       "      <td>1103.000</td>\n",
       "    </tr>\n",
       "    <tr>\n",
       "      <th>W</th>\n",
       "      <td>1232.0</td>\n",
       "      <td>80.904221</td>\n",
       "      <td>11.458139</td>\n",
       "      <td>40.000</td>\n",
       "      <td>73.000</td>\n",
       "      <td>81.000</td>\n",
       "      <td>89.000</td>\n",
       "      <td>116.000</td>\n",
       "    </tr>\n",
       "    <tr>\n",
       "      <th>OBP</th>\n",
       "      <td>1232.0</td>\n",
       "      <td>0.326331</td>\n",
       "      <td>0.015013</td>\n",
       "      <td>0.277</td>\n",
       "      <td>0.317</td>\n",
       "      <td>0.326</td>\n",
       "      <td>0.337</td>\n",
       "      <td>0.373</td>\n",
       "    </tr>\n",
       "    <tr>\n",
       "      <th>SLG</th>\n",
       "      <td>1232.0</td>\n",
       "      <td>0.397342</td>\n",
       "      <td>0.033267</td>\n",
       "      <td>0.301</td>\n",
       "      <td>0.375</td>\n",
       "      <td>0.396</td>\n",
       "      <td>0.421</td>\n",
       "      <td>0.491</td>\n",
       "    </tr>\n",
       "    <tr>\n",
       "      <th>BA</th>\n",
       "      <td>1232.0</td>\n",
       "      <td>0.259273</td>\n",
       "      <td>0.012907</td>\n",
       "      <td>0.214</td>\n",
       "      <td>0.251</td>\n",
       "      <td>0.260</td>\n",
       "      <td>0.268</td>\n",
       "      <td>0.294</td>\n",
       "    </tr>\n",
       "    <tr>\n",
       "      <th>Playoffs</th>\n",
       "      <td>1232.0</td>\n",
       "      <td>0.198052</td>\n",
       "      <td>0.398693</td>\n",
       "      <td>0.000</td>\n",
       "      <td>0.000</td>\n",
       "      <td>0.000</td>\n",
       "      <td>0.000</td>\n",
       "      <td>1.000</td>\n",
       "    </tr>\n",
       "    <tr>\n",
       "      <th>RankSeason</th>\n",
       "      <td>244.0</td>\n",
       "      <td>3.122951</td>\n",
       "      <td>1.738349</td>\n",
       "      <td>1.000</td>\n",
       "      <td>2.000</td>\n",
       "      <td>3.000</td>\n",
       "      <td>4.000</td>\n",
       "      <td>8.000</td>\n",
       "    </tr>\n",
       "    <tr>\n",
       "      <th>RankPlayoffs</th>\n",
       "      <td>244.0</td>\n",
       "      <td>2.717213</td>\n",
       "      <td>1.095234</td>\n",
       "      <td>1.000</td>\n",
       "      <td>2.000</td>\n",
       "      <td>3.000</td>\n",
       "      <td>4.000</td>\n",
       "      <td>5.000</td>\n",
       "    </tr>\n",
       "    <tr>\n",
       "      <th>G</th>\n",
       "      <td>1232.0</td>\n",
       "      <td>161.918831</td>\n",
       "      <td>0.624365</td>\n",
       "      <td>158.000</td>\n",
       "      <td>162.000</td>\n",
       "      <td>162.000</td>\n",
       "      <td>162.000</td>\n",
       "      <td>165.000</td>\n",
       "    </tr>\n",
       "    <tr>\n",
       "      <th>OOBP</th>\n",
       "      <td>420.0</td>\n",
       "      <td>0.332264</td>\n",
       "      <td>0.015295</td>\n",
       "      <td>0.294</td>\n",
       "      <td>0.321</td>\n",
       "      <td>0.331</td>\n",
       "      <td>0.343</td>\n",
       "      <td>0.384</td>\n",
       "    </tr>\n",
       "    <tr>\n",
       "      <th>OSLG</th>\n",
       "      <td>420.0</td>\n",
       "      <td>0.419743</td>\n",
       "      <td>0.026510</td>\n",
       "      <td>0.346</td>\n",
       "      <td>0.401</td>\n",
       "      <td>0.419</td>\n",
       "      <td>0.438</td>\n",
       "      <td>0.499</td>\n",
       "    </tr>\n",
       "  </tbody>\n",
       "</table>\n",
       "</div>"
      ],
      "text/plain": [
       "               count         mean        std       min       25%       50%  \\\n",
       "Year          1232.0  1988.957792  14.819625  1962.000  1976.750  1989.000   \n",
       "RS            1232.0   715.081981  91.534294   463.000   652.000   711.000   \n",
       "RA            1232.0   715.081981  93.079933   472.000   649.750   709.000   \n",
       "W             1232.0    80.904221  11.458139    40.000    73.000    81.000   \n",
       "OBP           1232.0     0.326331   0.015013     0.277     0.317     0.326   \n",
       "SLG           1232.0     0.397342   0.033267     0.301     0.375     0.396   \n",
       "BA            1232.0     0.259273   0.012907     0.214     0.251     0.260   \n",
       "Playoffs      1232.0     0.198052   0.398693     0.000     0.000     0.000   \n",
       "RankSeason     244.0     3.122951   1.738349     1.000     2.000     3.000   \n",
       "RankPlayoffs   244.0     2.717213   1.095234     1.000     2.000     3.000   \n",
       "G             1232.0   161.918831   0.624365   158.000   162.000   162.000   \n",
       "OOBP           420.0     0.332264   0.015295     0.294     0.321     0.331   \n",
       "OSLG           420.0     0.419743   0.026510     0.346     0.401     0.419   \n",
       "\n",
       "                   75%       max  \n",
       "Year          2002.000  2012.000  \n",
       "RS             775.000  1009.000  \n",
       "RA             774.250  1103.000  \n",
       "W               89.000   116.000  \n",
       "OBP              0.337     0.373  \n",
       "SLG              0.421     0.491  \n",
       "BA               0.268     0.294  \n",
       "Playoffs         0.000     1.000  \n",
       "RankSeason       4.000     8.000  \n",
       "RankPlayoffs     4.000     5.000  \n",
       "G              162.000   165.000  \n",
       "OOBP             0.343     0.384  \n",
       "OSLG             0.438     0.499  "
      ]
     },
     "execution_count": 5,
     "metadata": {},
     "output_type": "execute_result"
    }
   ],
   "source": [
    "data.describe().T"
   ]
  },
  {
   "cell_type": "code",
   "execution_count": 6,
   "id": "6ad62830",
   "metadata": {},
   "outputs": [
    {
     "name": "stdout",
     "output_type": "stream",
     "text": [
      "715.0819805194806\n"
     ]
    }
   ],
   "source": [
    "#Simplest mean : Mean of any column\n",
    "\n",
    "mean_RS= data['RS'].mean()\n",
    "print(mean_RS)"
   ]
  },
  {
   "cell_type": "code",
   "execution_count": 7,
   "id": "5a9b8393",
   "metadata": {},
   "outputs": [
    {
     "data": {
      "text/plain": [
       "np.float64(715.0819805194806)"
      ]
     },
     "execution_count": 7,
     "metadata": {},
     "output_type": "execute_result"
    }
   ],
   "source": [
    "#Or##\n",
    "data.RS.mean()"
   ]
  },
  {
   "cell_type": "code",
   "execution_count": 8,
   "id": "8e4c4cb7",
   "metadata": {},
   "outputs": [
    {
     "data": {
      "text/plain": [
       "np.float64(742.2)"
      ]
     },
     "execution_count": 8,
     "metadata": {},
     "output_type": "execute_result"
    }
   ],
   "source": [
    "#Mean : Mean of any column by any team\n",
    "\n",
    "data.loc[data.Team == \"ARI\"]\n",
    "data.loc[data.Team == \"ARI\"].RS.mean()"
   ]
  },
  {
   "cell_type": "code",
   "execution_count": 9,
   "id": "e8269bde",
   "metadata": {},
   "outputs": [
    {
     "name": "stdout",
     "output_type": "stream",
     "text": [
      "Year: 1999 Mean RS: 908.0\n"
     ]
    }
   ],
   "source": [
    "#Mean : Mean of any column by any team of any specific year\n",
    "\n",
    "data.loc[(data.Team == \"ARI\") & (data.Year > 2009)].RS.mean()\n",
    "data.loc[(data.Team == \"ARI\") & (data.Year.isin([2005, 2007, 2009]))].RS.mean()\n",
    "data.loc[(data.Team == \"ARI\") & (data.Year.isin([2005, 2007, 2009]))]\n",
    "data.loc[data.Team == \"ARI\"].sort_values(by=\"RS\", ascending=False).iloc[0]\n",
    "data.loc[data.Team == \"ARI\"].groupby(\"Year\")[\"RS\"].mean()\n",
    "mean_rs = data.loc[data.Team == \"ARI\"].groupby(\"Year\")[\"RS\"].mean()\n",
    "max_mean_year = mean_rs.idxmax()\n",
    "print(\"Year:\", max_mean_year, \"Mean RS:\", mean_rs[max_mean_year])"
   ]
  },
  {
   "cell_type": "code",
   "execution_count": 10,
   "id": "bb05ba60",
   "metadata": {},
   "outputs": [
    {
     "data": {
      "text/plain": [
       "np.float64(727.2619047619048)"
      ]
     },
     "execution_count": 10,
     "metadata": {},
     "output_type": "execute_result"
    }
   ],
   "source": [
    "#Mean RA\n",
    "\n",
    "data.RA.mean()\n",
    "data.loc[data.Team == \"CHC\"].RA.mean()\n",
    "data.loc[(data.Team == \"CHC\") & (data.Year <= 2007)].RA.mean()"
   ]
  },
  {
   "cell_type": "code",
   "execution_count": 11,
   "id": "80d9bc0e",
   "metadata": {},
   "outputs": [
    {
     "data": {
      "text/plain": [
       "np.float64(715.0819805194806)"
      ]
     },
     "execution_count": 11,
     "metadata": {},
     "output_type": "execute_result"
    }
   ],
   "source": [
    "data.RA.mean()\n"
   ]
  },
  {
   "cell_type": "code",
   "execution_count": 12,
   "id": "f8f347d9",
   "metadata": {},
   "outputs": [
    {
     "data": {
      "text/plain": [
       "np.float64(727.0212765957447)"
      ]
     },
     "execution_count": 12,
     "metadata": {},
     "output_type": "execute_result"
    }
   ],
   "source": [
    "data.loc[data.Team == \"CHC\"].RA.mean()"
   ]
  },
  {
   "cell_type": "code",
   "execution_count": 13,
   "id": "b5f92062",
   "metadata": {},
   "outputs": [
    {
     "data": {
      "text/html": [
       "<div>\n",
       "<style scoped>\n",
       "    .dataframe tbody tr th:only-of-type {\n",
       "        vertical-align: middle;\n",
       "    }\n",
       "\n",
       "    .dataframe tbody tr th {\n",
       "        vertical-align: top;\n",
       "    }\n",
       "\n",
       "    .dataframe thead th {\n",
       "        text-align: right;\n",
       "    }\n",
       "</style>\n",
       "<table border=\"1\" class=\"dataframe\">\n",
       "  <thead>\n",
       "    <tr style=\"text-align: right;\">\n",
       "      <th></th>\n",
       "      <th>Team</th>\n",
       "      <th>League</th>\n",
       "      <th>Year</th>\n",
       "      <th>RS</th>\n",
       "      <th>RA</th>\n",
       "      <th>W</th>\n",
       "      <th>OBP</th>\n",
       "      <th>SLG</th>\n",
       "      <th>BA</th>\n",
       "      <th>Playoffs</th>\n",
       "      <th>RankSeason</th>\n",
       "      <th>RankPlayoffs</th>\n",
       "      <th>G</th>\n",
       "      <th>OOBP</th>\n",
       "      <th>OSLG</th>\n",
       "    </tr>\n",
       "  </thead>\n",
       "  <tbody>\n",
       "    <tr>\n",
       "      <th>154</th>\n",
       "      <td>CHC</td>\n",
       "      <td>NL</td>\n",
       "      <td>2007</td>\n",
       "      <td>752</td>\n",
       "      <td>690</td>\n",
       "      <td>85</td>\n",
       "      <td>0.333</td>\n",
       "      <td>0.422</td>\n",
       "      <td>0.271</td>\n",
       "      <td>1</td>\n",
       "      <td>5.0</td>\n",
       "      <td>4.0</td>\n",
       "      <td>162</td>\n",
       "      <td>0.322</td>\n",
       "      <td>0.399</td>\n",
       "    </tr>\n",
       "    <tr>\n",
       "      <th>184</th>\n",
       "      <td>CHC</td>\n",
       "      <td>NL</td>\n",
       "      <td>2006</td>\n",
       "      <td>716</td>\n",
       "      <td>834</td>\n",
       "      <td>66</td>\n",
       "      <td>0.319</td>\n",
       "      <td>0.422</td>\n",
       "      <td>0.268</td>\n",
       "      <td>0</td>\n",
       "      <td>NaN</td>\n",
       "      <td>NaN</td>\n",
       "      <td>162</td>\n",
       "      <td>0.342</td>\n",
       "      <td>0.431</td>\n",
       "    </tr>\n",
       "    <tr>\n",
       "      <th>214</th>\n",
       "      <td>CHC</td>\n",
       "      <td>NL</td>\n",
       "      <td>2005</td>\n",
       "      <td>703</td>\n",
       "      <td>714</td>\n",
       "      <td>79</td>\n",
       "      <td>0.324</td>\n",
       "      <td>0.440</td>\n",
       "      <td>0.270</td>\n",
       "      <td>0</td>\n",
       "      <td>NaN</td>\n",
       "      <td>NaN</td>\n",
       "      <td>162</td>\n",
       "      <td>0.325</td>\n",
       "      <td>0.407</td>\n",
       "    </tr>\n",
       "    <tr>\n",
       "      <th>245</th>\n",
       "      <td>CHC</td>\n",
       "      <td>NL</td>\n",
       "      <td>2004</td>\n",
       "      <td>789</td>\n",
       "      <td>665</td>\n",
       "      <td>89</td>\n",
       "      <td>0.328</td>\n",
       "      <td>0.458</td>\n",
       "      <td>0.268</td>\n",
       "      <td>0</td>\n",
       "      <td>NaN</td>\n",
       "      <td>NaN</td>\n",
       "      <td>162</td>\n",
       "      <td>0.321</td>\n",
       "      <td>0.395</td>\n",
       "    </tr>\n",
       "    <tr>\n",
       "      <th>275</th>\n",
       "      <td>CHC</td>\n",
       "      <td>NL</td>\n",
       "      <td>2003</td>\n",
       "      <td>724</td>\n",
       "      <td>683</td>\n",
       "      <td>88</td>\n",
       "      <td>0.323</td>\n",
       "      <td>0.416</td>\n",
       "      <td>0.259</td>\n",
       "      <td>1</td>\n",
       "      <td>7.0</td>\n",
       "      <td>3.0</td>\n",
       "      <td>162</td>\n",
       "      <td>0.324</td>\n",
       "      <td>0.372</td>\n",
       "    </tr>\n",
       "    <tr>\n",
       "      <th>305</th>\n",
       "      <td>CHC</td>\n",
       "      <td>NL</td>\n",
       "      <td>2002</td>\n",
       "      <td>706</td>\n",
       "      <td>759</td>\n",
       "      <td>67</td>\n",
       "      <td>0.321</td>\n",
       "      <td>0.413</td>\n",
       "      <td>0.246</td>\n",
       "      <td>0</td>\n",
       "      <td>NaN</td>\n",
       "      <td>NaN</td>\n",
       "      <td>162</td>\n",
       "      <td>0.331</td>\n",
       "      <td>0.407</td>\n",
       "    </tr>\n",
       "    <tr>\n",
       "      <th>335</th>\n",
       "      <td>CHC</td>\n",
       "      <td>NL</td>\n",
       "      <td>2001</td>\n",
       "      <td>777</td>\n",
       "      <td>701</td>\n",
       "      <td>88</td>\n",
       "      <td>0.336</td>\n",
       "      <td>0.430</td>\n",
       "      <td>0.261</td>\n",
       "      <td>0</td>\n",
       "      <td>NaN</td>\n",
       "      <td>NaN</td>\n",
       "      <td>162</td>\n",
       "      <td>0.321</td>\n",
       "      <td>0.398</td>\n",
       "    </tr>\n",
       "    <tr>\n",
       "      <th>365</th>\n",
       "      <td>CHC</td>\n",
       "      <td>NL</td>\n",
       "      <td>2000</td>\n",
       "      <td>764</td>\n",
       "      <td>904</td>\n",
       "      <td>65</td>\n",
       "      <td>0.335</td>\n",
       "      <td>0.411</td>\n",
       "      <td>0.256</td>\n",
       "      <td>0</td>\n",
       "      <td>NaN</td>\n",
       "      <td>NaN</td>\n",
       "      <td>162</td>\n",
       "      <td>0.348</td>\n",
       "      <td>0.452</td>\n",
       "    </tr>\n",
       "    <tr>\n",
       "      <th>395</th>\n",
       "      <td>CHC</td>\n",
       "      <td>NL</td>\n",
       "      <td>1999</td>\n",
       "      <td>747</td>\n",
       "      <td>920</td>\n",
       "      <td>67</td>\n",
       "      <td>0.329</td>\n",
       "      <td>0.420</td>\n",
       "      <td>0.257</td>\n",
       "      <td>0</td>\n",
       "      <td>NaN</td>\n",
       "      <td>NaN</td>\n",
       "      <td>162</td>\n",
       "      <td>0.346</td>\n",
       "      <td>0.467</td>\n",
       "    </tr>\n",
       "    <tr>\n",
       "      <th>425</th>\n",
       "      <td>CHC</td>\n",
       "      <td>NL</td>\n",
       "      <td>1998</td>\n",
       "      <td>831</td>\n",
       "      <td>792</td>\n",
       "      <td>90</td>\n",
       "      <td>0.337</td>\n",
       "      <td>0.433</td>\n",
       "      <td>0.264</td>\n",
       "      <td>1</td>\n",
       "      <td>6.0</td>\n",
       "      <td>4.0</td>\n",
       "      <td>163</td>\n",
       "      <td>NaN</td>\n",
       "      <td>NaN</td>\n",
       "    </tr>\n",
       "    <tr>\n",
       "      <th>454</th>\n",
       "      <td>CHC</td>\n",
       "      <td>NL</td>\n",
       "      <td>1997</td>\n",
       "      <td>687</td>\n",
       "      <td>759</td>\n",
       "      <td>68</td>\n",
       "      <td>0.321</td>\n",
       "      <td>0.396</td>\n",
       "      <td>0.263</td>\n",
       "      <td>0</td>\n",
       "      <td>NaN</td>\n",
       "      <td>NaN</td>\n",
       "      <td>162</td>\n",
       "      <td>NaN</td>\n",
       "      <td>NaN</td>\n",
       "    </tr>\n",
       "    <tr>\n",
       "      <th>482</th>\n",
       "      <td>CHC</td>\n",
       "      <td>NL</td>\n",
       "      <td>1996</td>\n",
       "      <td>772</td>\n",
       "      <td>771</td>\n",
       "      <td>76</td>\n",
       "      <td>0.320</td>\n",
       "      <td>0.401</td>\n",
       "      <td>0.251</td>\n",
       "      <td>0</td>\n",
       "      <td>NaN</td>\n",
       "      <td>NaN</td>\n",
       "      <td>162</td>\n",
       "      <td>NaN</td>\n",
       "      <td>NaN</td>\n",
       "    </tr>\n",
       "    <tr>\n",
       "      <th>510</th>\n",
       "      <td>CHC</td>\n",
       "      <td>NL</td>\n",
       "      <td>1993</td>\n",
       "      <td>738</td>\n",
       "      <td>739</td>\n",
       "      <td>84</td>\n",
       "      <td>0.325</td>\n",
       "      <td>0.414</td>\n",
       "      <td>0.270</td>\n",
       "      <td>0</td>\n",
       "      <td>NaN</td>\n",
       "      <td>NaN</td>\n",
       "      <td>163</td>\n",
       "      <td>NaN</td>\n",
       "      <td>NaN</td>\n",
       "    </tr>\n",
       "    <tr>\n",
       "      <th>538</th>\n",
       "      <td>CHC</td>\n",
       "      <td>NL</td>\n",
       "      <td>1992</td>\n",
       "      <td>593</td>\n",
       "      <td>624</td>\n",
       "      <td>78</td>\n",
       "      <td>0.307</td>\n",
       "      <td>0.364</td>\n",
       "      <td>0.254</td>\n",
       "      <td>0</td>\n",
       "      <td>NaN</td>\n",
       "      <td>NaN</td>\n",
       "      <td>162</td>\n",
       "      <td>NaN</td>\n",
       "      <td>NaN</td>\n",
       "    </tr>\n",
       "    <tr>\n",
       "      <th>564</th>\n",
       "      <td>CHC</td>\n",
       "      <td>NL</td>\n",
       "      <td>1991</td>\n",
       "      <td>695</td>\n",
       "      <td>734</td>\n",
       "      <td>77</td>\n",
       "      <td>0.309</td>\n",
       "      <td>0.390</td>\n",
       "      <td>0.253</td>\n",
       "      <td>0</td>\n",
       "      <td>NaN</td>\n",
       "      <td>NaN</td>\n",
       "      <td>160</td>\n",
       "      <td>NaN</td>\n",
       "      <td>NaN</td>\n",
       "    </tr>\n",
       "    <tr>\n",
       "      <th>590</th>\n",
       "      <td>CHC</td>\n",
       "      <td>NL</td>\n",
       "      <td>1990</td>\n",
       "      <td>690</td>\n",
       "      <td>774</td>\n",
       "      <td>77</td>\n",
       "      <td>0.314</td>\n",
       "      <td>0.392</td>\n",
       "      <td>0.263</td>\n",
       "      <td>0</td>\n",
       "      <td>NaN</td>\n",
       "      <td>NaN</td>\n",
       "      <td>162</td>\n",
       "      <td>NaN</td>\n",
       "      <td>NaN</td>\n",
       "    </tr>\n",
       "    <tr>\n",
       "      <th>616</th>\n",
       "      <td>CHC</td>\n",
       "      <td>NL</td>\n",
       "      <td>1989</td>\n",
       "      <td>702</td>\n",
       "      <td>623</td>\n",
       "      <td>93</td>\n",
       "      <td>0.319</td>\n",
       "      <td>0.387</td>\n",
       "      <td>0.261</td>\n",
       "      <td>1</td>\n",
       "      <td>2.0</td>\n",
       "      <td>3.0</td>\n",
       "      <td>162</td>\n",
       "      <td>NaN</td>\n",
       "      <td>NaN</td>\n",
       "    </tr>\n",
       "    <tr>\n",
       "      <th>642</th>\n",
       "      <td>CHC</td>\n",
       "      <td>NL</td>\n",
       "      <td>1988</td>\n",
       "      <td>660</td>\n",
       "      <td>694</td>\n",
       "      <td>77</td>\n",
       "      <td>0.310</td>\n",
       "      <td>0.383</td>\n",
       "      <td>0.261</td>\n",
       "      <td>0</td>\n",
       "      <td>NaN</td>\n",
       "      <td>NaN</td>\n",
       "      <td>163</td>\n",
       "      <td>NaN</td>\n",
       "      <td>NaN</td>\n",
       "    </tr>\n",
       "    <tr>\n",
       "      <th>668</th>\n",
       "      <td>CHC</td>\n",
       "      <td>NL</td>\n",
       "      <td>1987</td>\n",
       "      <td>720</td>\n",
       "      <td>801</td>\n",
       "      <td>76</td>\n",
       "      <td>0.326</td>\n",
       "      <td>0.432</td>\n",
       "      <td>0.264</td>\n",
       "      <td>0</td>\n",
       "      <td>NaN</td>\n",
       "      <td>NaN</td>\n",
       "      <td>161</td>\n",
       "      <td>NaN</td>\n",
       "      <td>NaN</td>\n",
       "    </tr>\n",
       "    <tr>\n",
       "      <th>694</th>\n",
       "      <td>CHC</td>\n",
       "      <td>NL</td>\n",
       "      <td>1986</td>\n",
       "      <td>680</td>\n",
       "      <td>781</td>\n",
       "      <td>70</td>\n",
       "      <td>0.318</td>\n",
       "      <td>0.398</td>\n",
       "      <td>0.256</td>\n",
       "      <td>0</td>\n",
       "      <td>NaN</td>\n",
       "      <td>NaN</td>\n",
       "      <td>160</td>\n",
       "      <td>NaN</td>\n",
       "      <td>NaN</td>\n",
       "    </tr>\n",
       "    <tr>\n",
       "      <th>720</th>\n",
       "      <td>CHC</td>\n",
       "      <td>NL</td>\n",
       "      <td>1985</td>\n",
       "      <td>686</td>\n",
       "      <td>729</td>\n",
       "      <td>77</td>\n",
       "      <td>0.324</td>\n",
       "      <td>0.390</td>\n",
       "      <td>0.254</td>\n",
       "      <td>0</td>\n",
       "      <td>NaN</td>\n",
       "      <td>NaN</td>\n",
       "      <td>162</td>\n",
       "      <td>NaN</td>\n",
       "      <td>NaN</td>\n",
       "    </tr>\n",
       "    <tr>\n",
       "      <th>746</th>\n",
       "      <td>CHC</td>\n",
       "      <td>NL</td>\n",
       "      <td>1984</td>\n",
       "      <td>762</td>\n",
       "      <td>658</td>\n",
       "      <td>96</td>\n",
       "      <td>0.331</td>\n",
       "      <td>0.397</td>\n",
       "      <td>0.260</td>\n",
       "      <td>1</td>\n",
       "      <td>2.0</td>\n",
       "      <td>3.0</td>\n",
       "      <td>161</td>\n",
       "      <td>NaN</td>\n",
       "      <td>NaN</td>\n",
       "    </tr>\n",
       "    <tr>\n",
       "      <th>772</th>\n",
       "      <td>CHC</td>\n",
       "      <td>NL</td>\n",
       "      <td>1983</td>\n",
       "      <td>701</td>\n",
       "      <td>719</td>\n",
       "      <td>71</td>\n",
       "      <td>0.319</td>\n",
       "      <td>0.401</td>\n",
       "      <td>0.261</td>\n",
       "      <td>0</td>\n",
       "      <td>NaN</td>\n",
       "      <td>NaN</td>\n",
       "      <td>162</td>\n",
       "      <td>NaN</td>\n",
       "      <td>NaN</td>\n",
       "    </tr>\n",
       "    <tr>\n",
       "      <th>798</th>\n",
       "      <td>CHC</td>\n",
       "      <td>NL</td>\n",
       "      <td>1982</td>\n",
       "      <td>676</td>\n",
       "      <td>709</td>\n",
       "      <td>73</td>\n",
       "      <td>0.317</td>\n",
       "      <td>0.375</td>\n",
       "      <td>0.260</td>\n",
       "      <td>0</td>\n",
       "      <td>NaN</td>\n",
       "      <td>NaN</td>\n",
       "      <td>162</td>\n",
       "      <td>NaN</td>\n",
       "      <td>NaN</td>\n",
       "    </tr>\n",
       "    <tr>\n",
       "      <th>824</th>\n",
       "      <td>CHC</td>\n",
       "      <td>NL</td>\n",
       "      <td>1980</td>\n",
       "      <td>614</td>\n",
       "      <td>728</td>\n",
       "      <td>64</td>\n",
       "      <td>0.309</td>\n",
       "      <td>0.365</td>\n",
       "      <td>0.251</td>\n",
       "      <td>0</td>\n",
       "      <td>NaN</td>\n",
       "      <td>NaN</td>\n",
       "      <td>162</td>\n",
       "      <td>NaN</td>\n",
       "      <td>NaN</td>\n",
       "    </tr>\n",
       "    <tr>\n",
       "      <th>850</th>\n",
       "      <td>CHC</td>\n",
       "      <td>NL</td>\n",
       "      <td>1979</td>\n",
       "      <td>706</td>\n",
       "      <td>707</td>\n",
       "      <td>80</td>\n",
       "      <td>0.329</td>\n",
       "      <td>0.403</td>\n",
       "      <td>0.269</td>\n",
       "      <td>0</td>\n",
       "      <td>NaN</td>\n",
       "      <td>NaN</td>\n",
       "      <td>162</td>\n",
       "      <td>NaN</td>\n",
       "      <td>NaN</td>\n",
       "    </tr>\n",
       "    <tr>\n",
       "      <th>876</th>\n",
       "      <td>CHC</td>\n",
       "      <td>NL</td>\n",
       "      <td>1978</td>\n",
       "      <td>664</td>\n",
       "      <td>724</td>\n",
       "      <td>79</td>\n",
       "      <td>0.331</td>\n",
       "      <td>0.361</td>\n",
       "      <td>0.264</td>\n",
       "      <td>0</td>\n",
       "      <td>NaN</td>\n",
       "      <td>NaN</td>\n",
       "      <td>162</td>\n",
       "      <td>NaN</td>\n",
       "      <td>NaN</td>\n",
       "    </tr>\n",
       "    <tr>\n",
       "      <th>902</th>\n",
       "      <td>CHC</td>\n",
       "      <td>NL</td>\n",
       "      <td>1977</td>\n",
       "      <td>692</td>\n",
       "      <td>739</td>\n",
       "      <td>81</td>\n",
       "      <td>0.330</td>\n",
       "      <td>0.387</td>\n",
       "      <td>0.266</td>\n",
       "      <td>0</td>\n",
       "      <td>NaN</td>\n",
       "      <td>NaN</td>\n",
       "      <td>162</td>\n",
       "      <td>NaN</td>\n",
       "      <td>NaN</td>\n",
       "    </tr>\n",
       "    <tr>\n",
       "      <th>928</th>\n",
       "      <td>CHC</td>\n",
       "      <td>NL</td>\n",
       "      <td>1976</td>\n",
       "      <td>611</td>\n",
       "      <td>728</td>\n",
       "      <td>75</td>\n",
       "      <td>0.313</td>\n",
       "      <td>0.356</td>\n",
       "      <td>0.251</td>\n",
       "      <td>0</td>\n",
       "      <td>NaN</td>\n",
       "      <td>NaN</td>\n",
       "      <td>162</td>\n",
       "      <td>NaN</td>\n",
       "      <td>NaN</td>\n",
       "    </tr>\n",
       "    <tr>\n",
       "      <th>952</th>\n",
       "      <td>CHC</td>\n",
       "      <td>NL</td>\n",
       "      <td>1975</td>\n",
       "      <td>712</td>\n",
       "      <td>827</td>\n",
       "      <td>75</td>\n",
       "      <td>0.338</td>\n",
       "      <td>0.368</td>\n",
       "      <td>0.259</td>\n",
       "      <td>0</td>\n",
       "      <td>NaN</td>\n",
       "      <td>NaN</td>\n",
       "      <td>162</td>\n",
       "      <td>NaN</td>\n",
       "      <td>NaN</td>\n",
       "    </tr>\n",
       "    <tr>\n",
       "      <th>976</th>\n",
       "      <td>CHC</td>\n",
       "      <td>NL</td>\n",
       "      <td>1974</td>\n",
       "      <td>669</td>\n",
       "      <td>826</td>\n",
       "      <td>66</td>\n",
       "      <td>0.327</td>\n",
       "      <td>0.365</td>\n",
       "      <td>0.251</td>\n",
       "      <td>0</td>\n",
       "      <td>NaN</td>\n",
       "      <td>NaN</td>\n",
       "      <td>162</td>\n",
       "      <td>NaN</td>\n",
       "      <td>NaN</td>\n",
       "    </tr>\n",
       "    <tr>\n",
       "      <th>1000</th>\n",
       "      <td>CHC</td>\n",
       "      <td>NL</td>\n",
       "      <td>1973</td>\n",
       "      <td>614</td>\n",
       "      <td>655</td>\n",
       "      <td>77</td>\n",
       "      <td>0.320</td>\n",
       "      <td>0.357</td>\n",
       "      <td>0.247</td>\n",
       "      <td>0</td>\n",
       "      <td>NaN</td>\n",
       "      <td>NaN</td>\n",
       "      <td>161</td>\n",
       "      <td>NaN</td>\n",
       "      <td>NaN</td>\n",
       "    </tr>\n",
       "    <tr>\n",
       "      <th>1024</th>\n",
       "      <td>CHC</td>\n",
       "      <td>NL</td>\n",
       "      <td>1971</td>\n",
       "      <td>637</td>\n",
       "      <td>648</td>\n",
       "      <td>83</td>\n",
       "      <td>0.325</td>\n",
       "      <td>0.378</td>\n",
       "      <td>0.258</td>\n",
       "      <td>0</td>\n",
       "      <td>NaN</td>\n",
       "      <td>NaN</td>\n",
       "      <td>162</td>\n",
       "      <td>NaN</td>\n",
       "      <td>NaN</td>\n",
       "    </tr>\n",
       "    <tr>\n",
       "      <th>1048</th>\n",
       "      <td>CHC</td>\n",
       "      <td>NL</td>\n",
       "      <td>1970</td>\n",
       "      <td>806</td>\n",
       "      <td>679</td>\n",
       "      <td>84</td>\n",
       "      <td>0.333</td>\n",
       "      <td>0.415</td>\n",
       "      <td>0.259</td>\n",
       "      <td>0</td>\n",
       "      <td>NaN</td>\n",
       "      <td>NaN</td>\n",
       "      <td>162</td>\n",
       "      <td>NaN</td>\n",
       "      <td>NaN</td>\n",
       "    </tr>\n",
       "    <tr>\n",
       "      <th>1072</th>\n",
       "      <td>CHC</td>\n",
       "      <td>NL</td>\n",
       "      <td>1969</td>\n",
       "      <td>720</td>\n",
       "      <td>611</td>\n",
       "      <td>92</td>\n",
       "      <td>0.323</td>\n",
       "      <td>0.384</td>\n",
       "      <td>0.253</td>\n",
       "      <td>0</td>\n",
       "      <td>NaN</td>\n",
       "      <td>NaN</td>\n",
       "      <td>163</td>\n",
       "      <td>NaN</td>\n",
       "      <td>NaN</td>\n",
       "    </tr>\n",
       "    <tr>\n",
       "      <th>1096</th>\n",
       "      <td>CHC</td>\n",
       "      <td>NL</td>\n",
       "      <td>1968</td>\n",
       "      <td>612</td>\n",
       "      <td>611</td>\n",
       "      <td>84</td>\n",
       "      <td>0.298</td>\n",
       "      <td>0.366</td>\n",
       "      <td>0.242</td>\n",
       "      <td>0</td>\n",
       "      <td>NaN</td>\n",
       "      <td>NaN</td>\n",
       "      <td>163</td>\n",
       "      <td>NaN</td>\n",
       "      <td>NaN</td>\n",
       "    </tr>\n",
       "    <tr>\n",
       "      <th>1116</th>\n",
       "      <td>CHC</td>\n",
       "      <td>NL</td>\n",
       "      <td>1967</td>\n",
       "      <td>702</td>\n",
       "      <td>624</td>\n",
       "      <td>87</td>\n",
       "      <td>0.316</td>\n",
       "      <td>0.378</td>\n",
       "      <td>0.251</td>\n",
       "      <td>0</td>\n",
       "      <td>NaN</td>\n",
       "      <td>NaN</td>\n",
       "      <td>162</td>\n",
       "      <td>NaN</td>\n",
       "      <td>NaN</td>\n",
       "    </tr>\n",
       "    <tr>\n",
       "      <th>1136</th>\n",
       "      <td>CHC</td>\n",
       "      <td>NL</td>\n",
       "      <td>1966</td>\n",
       "      <td>644</td>\n",
       "      <td>809</td>\n",
       "      <td>59</td>\n",
       "      <td>0.313</td>\n",
       "      <td>0.380</td>\n",
       "      <td>0.254</td>\n",
       "      <td>0</td>\n",
       "      <td>NaN</td>\n",
       "      <td>NaN</td>\n",
       "      <td>162</td>\n",
       "      <td>NaN</td>\n",
       "      <td>NaN</td>\n",
       "    </tr>\n",
       "    <tr>\n",
       "      <th>1155</th>\n",
       "      <td>CHC</td>\n",
       "      <td>NL</td>\n",
       "      <td>1965</td>\n",
       "      <td>635</td>\n",
       "      <td>723</td>\n",
       "      <td>72</td>\n",
       "      <td>0.307</td>\n",
       "      <td>0.358</td>\n",
       "      <td>0.238</td>\n",
       "      <td>0</td>\n",
       "      <td>NaN</td>\n",
       "      <td>NaN</td>\n",
       "      <td>164</td>\n",
       "      <td>NaN</td>\n",
       "      <td>NaN</td>\n",
       "    </tr>\n",
       "    <tr>\n",
       "      <th>1174</th>\n",
       "      <td>CHC</td>\n",
       "      <td>NL</td>\n",
       "      <td>1964</td>\n",
       "      <td>649</td>\n",
       "      <td>724</td>\n",
       "      <td>76</td>\n",
       "      <td>0.314</td>\n",
       "      <td>0.390</td>\n",
       "      <td>0.251</td>\n",
       "      <td>0</td>\n",
       "      <td>NaN</td>\n",
       "      <td>NaN</td>\n",
       "      <td>162</td>\n",
       "      <td>NaN</td>\n",
       "      <td>NaN</td>\n",
       "    </tr>\n",
       "    <tr>\n",
       "      <th>1194</th>\n",
       "      <td>CHC</td>\n",
       "      <td>NL</td>\n",
       "      <td>1963</td>\n",
       "      <td>570</td>\n",
       "      <td>578</td>\n",
       "      <td>82</td>\n",
       "      <td>0.297</td>\n",
       "      <td>0.363</td>\n",
       "      <td>0.238</td>\n",
       "      <td>0</td>\n",
       "      <td>NaN</td>\n",
       "      <td>NaN</td>\n",
       "      <td>162</td>\n",
       "      <td>NaN</td>\n",
       "      <td>NaN</td>\n",
       "    </tr>\n",
       "    <tr>\n",
       "      <th>1214</th>\n",
       "      <td>CHC</td>\n",
       "      <td>NL</td>\n",
       "      <td>1962</td>\n",
       "      <td>632</td>\n",
       "      <td>827</td>\n",
       "      <td>59</td>\n",
       "      <td>0.317</td>\n",
       "      <td>0.377</td>\n",
       "      <td>0.253</td>\n",
       "      <td>0</td>\n",
       "      <td>NaN</td>\n",
       "      <td>NaN</td>\n",
       "      <td>162</td>\n",
       "      <td>NaN</td>\n",
       "      <td>NaN</td>\n",
       "    </tr>\n",
       "  </tbody>\n",
       "</table>\n",
       "</div>"
      ],
      "text/plain": [
       "     Team League  Year   RS   RA   W    OBP    SLG     BA  Playoffs  \\\n",
       "154   CHC     NL  2007  752  690  85  0.333  0.422  0.271         1   \n",
       "184   CHC     NL  2006  716  834  66  0.319  0.422  0.268         0   \n",
       "214   CHC     NL  2005  703  714  79  0.324  0.440  0.270         0   \n",
       "245   CHC     NL  2004  789  665  89  0.328  0.458  0.268         0   \n",
       "275   CHC     NL  2003  724  683  88  0.323  0.416  0.259         1   \n",
       "305   CHC     NL  2002  706  759  67  0.321  0.413  0.246         0   \n",
       "335   CHC     NL  2001  777  701  88  0.336  0.430  0.261         0   \n",
       "365   CHC     NL  2000  764  904  65  0.335  0.411  0.256         0   \n",
       "395   CHC     NL  1999  747  920  67  0.329  0.420  0.257         0   \n",
       "425   CHC     NL  1998  831  792  90  0.337  0.433  0.264         1   \n",
       "454   CHC     NL  1997  687  759  68  0.321  0.396  0.263         0   \n",
       "482   CHC     NL  1996  772  771  76  0.320  0.401  0.251         0   \n",
       "510   CHC     NL  1993  738  739  84  0.325  0.414  0.270         0   \n",
       "538   CHC     NL  1992  593  624  78  0.307  0.364  0.254         0   \n",
       "564   CHC     NL  1991  695  734  77  0.309  0.390  0.253         0   \n",
       "590   CHC     NL  1990  690  774  77  0.314  0.392  0.263         0   \n",
       "616   CHC     NL  1989  702  623  93  0.319  0.387  0.261         1   \n",
       "642   CHC     NL  1988  660  694  77  0.310  0.383  0.261         0   \n",
       "668   CHC     NL  1987  720  801  76  0.326  0.432  0.264         0   \n",
       "694   CHC     NL  1986  680  781  70  0.318  0.398  0.256         0   \n",
       "720   CHC     NL  1985  686  729  77  0.324  0.390  0.254         0   \n",
       "746   CHC     NL  1984  762  658  96  0.331  0.397  0.260         1   \n",
       "772   CHC     NL  1983  701  719  71  0.319  0.401  0.261         0   \n",
       "798   CHC     NL  1982  676  709  73  0.317  0.375  0.260         0   \n",
       "824   CHC     NL  1980  614  728  64  0.309  0.365  0.251         0   \n",
       "850   CHC     NL  1979  706  707  80  0.329  0.403  0.269         0   \n",
       "876   CHC     NL  1978  664  724  79  0.331  0.361  0.264         0   \n",
       "902   CHC     NL  1977  692  739  81  0.330  0.387  0.266         0   \n",
       "928   CHC     NL  1976  611  728  75  0.313  0.356  0.251         0   \n",
       "952   CHC     NL  1975  712  827  75  0.338  0.368  0.259         0   \n",
       "976   CHC     NL  1974  669  826  66  0.327  0.365  0.251         0   \n",
       "1000  CHC     NL  1973  614  655  77  0.320  0.357  0.247         0   \n",
       "1024  CHC     NL  1971  637  648  83  0.325  0.378  0.258         0   \n",
       "1048  CHC     NL  1970  806  679  84  0.333  0.415  0.259         0   \n",
       "1072  CHC     NL  1969  720  611  92  0.323  0.384  0.253         0   \n",
       "1096  CHC     NL  1968  612  611  84  0.298  0.366  0.242         0   \n",
       "1116  CHC     NL  1967  702  624  87  0.316  0.378  0.251         0   \n",
       "1136  CHC     NL  1966  644  809  59  0.313  0.380  0.254         0   \n",
       "1155  CHC     NL  1965  635  723  72  0.307  0.358  0.238         0   \n",
       "1174  CHC     NL  1964  649  724  76  0.314  0.390  0.251         0   \n",
       "1194  CHC     NL  1963  570  578  82  0.297  0.363  0.238         0   \n",
       "1214  CHC     NL  1962  632  827  59  0.317  0.377  0.253         0   \n",
       "\n",
       "      RankSeason  RankPlayoffs    G   OOBP   OSLG  \n",
       "154          5.0           4.0  162  0.322  0.399  \n",
       "184          NaN           NaN  162  0.342  0.431  \n",
       "214          NaN           NaN  162  0.325  0.407  \n",
       "245          NaN           NaN  162  0.321  0.395  \n",
       "275          7.0           3.0  162  0.324  0.372  \n",
       "305          NaN           NaN  162  0.331  0.407  \n",
       "335          NaN           NaN  162  0.321  0.398  \n",
       "365          NaN           NaN  162  0.348  0.452  \n",
       "395          NaN           NaN  162  0.346  0.467  \n",
       "425          6.0           4.0  163    NaN    NaN  \n",
       "454          NaN           NaN  162    NaN    NaN  \n",
       "482          NaN           NaN  162    NaN    NaN  \n",
       "510          NaN           NaN  163    NaN    NaN  \n",
       "538          NaN           NaN  162    NaN    NaN  \n",
       "564          NaN           NaN  160    NaN    NaN  \n",
       "590          NaN           NaN  162    NaN    NaN  \n",
       "616          2.0           3.0  162    NaN    NaN  \n",
       "642          NaN           NaN  163    NaN    NaN  \n",
       "668          NaN           NaN  161    NaN    NaN  \n",
       "694          NaN           NaN  160    NaN    NaN  \n",
       "720          NaN           NaN  162    NaN    NaN  \n",
       "746          2.0           3.0  161    NaN    NaN  \n",
       "772          NaN           NaN  162    NaN    NaN  \n",
       "798          NaN           NaN  162    NaN    NaN  \n",
       "824          NaN           NaN  162    NaN    NaN  \n",
       "850          NaN           NaN  162    NaN    NaN  \n",
       "876          NaN           NaN  162    NaN    NaN  \n",
       "902          NaN           NaN  162    NaN    NaN  \n",
       "928          NaN           NaN  162    NaN    NaN  \n",
       "952          NaN           NaN  162    NaN    NaN  \n",
       "976          NaN           NaN  162    NaN    NaN  \n",
       "1000         NaN           NaN  161    NaN    NaN  \n",
       "1024         NaN           NaN  162    NaN    NaN  \n",
       "1048         NaN           NaN  162    NaN    NaN  \n",
       "1072         NaN           NaN  163    NaN    NaN  \n",
       "1096         NaN           NaN  163    NaN    NaN  \n",
       "1116         NaN           NaN  162    NaN    NaN  \n",
       "1136         NaN           NaN  162    NaN    NaN  \n",
       "1155         NaN           NaN  164    NaN    NaN  \n",
       "1174         NaN           NaN  162    NaN    NaN  \n",
       "1194         NaN           NaN  162    NaN    NaN  \n",
       "1214         NaN           NaN  162    NaN    NaN  "
      ]
     },
     "execution_count": 13,
     "metadata": {},
     "output_type": "execute_result"
    }
   ],
   "source": [
    "data.loc[(data.Team == \"CHC\") & (data.Year <= 2007)]"
   ]
  },
  {
   "cell_type": "markdown",
   "id": "b51591e3",
   "metadata": {},
   "source": [
    "# Median"
   ]
  },
  {
   "cell_type": "markdown",
   "id": "abd50dcd",
   "metadata": {},
   "source": [
    "**Mean and Median comparing first**"
   ]
  },
  {
   "cell_type": "code",
   "execution_count": 14,
   "id": "1a7f46db",
   "metadata": {},
   "outputs": [
    {
     "name": "stdout",
     "output_type": "stream",
     "text": [
      "80.90422077922078\n",
      "81.0\n"
     ]
    }
   ],
   "source": [
    "print(data.W.mean())\n",
    "print(data.W.median())"
   ]
  },
  {
   "cell_type": "markdown",
   "id": "61e51e5b",
   "metadata": {},
   "source": [
    "Another way to show"
   ]
  },
  {
   "cell_type": "code",
   "execution_count": 15,
   "id": "fddb8523",
   "metadata": {},
   "outputs": [
    {
     "name": "stdout",
     "output_type": "stream",
     "text": [
      "80.90422077922078\n"
     ]
    },
    {
     "data": {
      "text/plain": [
       "np.float64(81.0)"
      ]
     },
     "execution_count": 15,
     "metadata": {},
     "output_type": "execute_result"
    }
   ],
   "source": [
    "print(data.W.mean())\n",
    "data.W.median()"
   ]
  },
  {
   "cell_type": "markdown",
   "id": "36b516ae",
   "metadata": {},
   "source": [
    "Exercise : Median of Wins of the Baltimore Team (BAL) until 2000"
   ]
  },
  {
   "cell_type": "code",
   "execution_count": 16,
   "id": "233e2210",
   "metadata": {},
   "outputs": [
    {
     "data": {
      "text/plain": [
       "np.float64(89.0)"
      ]
     },
     "execution_count": 16,
     "metadata": {},
     "output_type": "execute_result"
    }
   ],
   "source": [
    "data.loc[(data.Team == \"BAL\") & (data.Year <= 2000)].W.median()"
   ]
  },
  {
   "cell_type": "code",
   "execution_count": 17,
   "id": "dd887d8f",
   "metadata": {},
   "outputs": [
    {
     "data": {
      "text/plain": [
       "np.float64(87.6)"
      ]
     },
     "execution_count": 17,
     "metadata": {},
     "output_type": "execute_result"
    }
   ],
   "source": [
    "data.loc[(data.Team == \"BAL\") & (data.Year <= 2000)].W.mean()"
   ]
  },
  {
   "cell_type": "markdown",
   "id": "30a1198e",
   "metadata": {},
   "source": [
    "# Mode"
   ]
  },
  {
   "cell_type": "markdown",
   "id": "9b61f1e7",
   "metadata": {},
   "source": [
    "**Will check 3 statistics, Mean, Median and Mode : OBP(On Based Percentage)**"
   ]
  },
  {
   "cell_type": "code",
   "execution_count": 18,
   "id": "e2675e36",
   "metadata": {},
   "outputs": [
    {
     "name": "stdout",
     "output_type": "stream",
     "text": [
      "0.32633116883116886\n",
      "0.326\n",
      "0    0.322\n",
      "Name: OBP, dtype: float64\n"
     ]
    }
   ],
   "source": [
    "print(data.OBP.mean())\n",
    "print(data.OBP.median())\n",
    "print(data.OBP.mode())"
   ]
  },
  {
   "cell_type": "markdown",
   "id": "702ca8bf",
   "metadata": {},
   "source": [
    "So Data is well distibuted"
   ]
  },
  {
   "cell_type": "markdown",
   "id": "1d17ce09",
   "metadata": {},
   "source": [
    "**Exercise: Mode of OBP During the year 2009**"
   ]
  },
  {
   "cell_type": "code",
   "execution_count": 19,
   "id": "1046baa9",
   "metadata": {},
   "outputs": [
    {
     "data": {
      "text/plain": [
       "0    0.318\n",
       "1    0.332\n",
       "Name: OBP, dtype: float64"
      ]
     },
     "execution_count": 19,
     "metadata": {},
     "output_type": "execute_result"
    }
   ],
   "source": [
    "data.loc[(data.Year == 2009)].OBP.mode()"
   ]
  },
  {
   "cell_type": "code",
   "execution_count": 20,
   "id": "e7b2a31d",
   "metadata": {},
   "outputs": [
    {
     "data": {
      "text/plain": [
       "OBP\n",
       "0.332    3\n",
       "0.318    3\n",
       "0.343    2\n",
       "0.339    2\n",
       "0.352    1\n",
       "0.324    1\n",
       "0.329    1\n",
       "0.331    1\n",
       "0.340    1\n",
       "0.319    1\n",
       "0.350    1\n",
       "0.346    1\n",
       "0.341    1\n",
       "0.345    1\n",
       "0.335    1\n",
       "0.362    1\n",
       "0.328    1\n",
       "0.334    1\n",
       "0.321    1\n",
       "0.314    1\n",
       "0.309    1\n",
       "0.320    1\n",
       "0.333    1\n",
       "0.337    1\n",
       "Name: count, dtype: int64"
      ]
     },
     "execution_count": 20,
     "metadata": {},
     "output_type": "execute_result"
    }
   ],
   "source": [
    "data.loc[data.Year == 2009, \"OBP\"].value_counts()\n"
   ]
  },
  {
   "cell_type": "code",
   "execution_count": 21,
   "id": "23b3e494",
   "metadata": {},
   "outputs": [
    {
     "data": {
      "text/plain": [
       "OBP\n",
       "0.332    3\n",
       "0.318    3\n",
       "0.343    2\n",
       "0.339    2\n",
       "0.352    1\n",
       "Name: count, dtype: int64"
      ]
     },
     "execution_count": 21,
     "metadata": {},
     "output_type": "execute_result"
    }
   ],
   "source": [
    "data.loc[data.Year == 2009, \"OBP\"].value_counts().head()\n"
   ]
  },
  {
   "cell_type": "code",
   "execution_count": 22,
   "id": "a16049f5",
   "metadata": {},
   "outputs": [
    {
     "data": {
      "text/plain": [
       "np.int64(3)"
      ]
     },
     "execution_count": 22,
     "metadata": {},
     "output_type": "execute_result"
    }
   ],
   "source": [
    "data.loc[data.Year == 2009, \"OBP\"].value_counts().max()\n"
   ]
  },
  {
   "cell_type": "code",
   "execution_count": 23,
   "id": "ac559f45",
   "metadata": {},
   "outputs": [
    {
     "data": {
      "text/plain": [
       "OBP\n",
       "0.332    3\n",
       "0.318    3\n",
       "Name: count, dtype: int64"
      ]
     },
     "execution_count": 23,
     "metadata": {},
     "output_type": "execute_result"
    }
   ],
   "source": [
    "vc = data.loc[data.Year == 2009, \"OBP\"].value_counts()\n",
    "vc[vc == vc.max()]"
   ]
  },
  {
   "cell_type": "markdown",
   "id": "218e9e02",
   "metadata": {},
   "source": [
    "# Correlation"
   ]
  },
  {
   "cell_type": "markdown",
   "id": "12596d0a",
   "metadata": {},
   "source": [
    "Correlation: Measure the relationship strength between 2 varriables, here I will try to show Pearson Correlation.\n",
    "\n",
    "Varries between 1 and -1"
   ]
  },
  {
   "cell_type": "markdown",
   "id": "5f3db0a3",
   "metadata": {},
   "source": [
    "$$\n",
    "r = \\frac{\\sum (x_i - \\bar{x})(y_i - \\bar{y})}\n",
    "{\\sqrt{\\sum (x_i - \\bar{x})^2 \\sum (y_i - \\bar{y})^2}}\n",
    "$$\n"
   ]
  },
  {
   "cell_type": "code",
   "execution_count": 24,
   "id": "7d1e9a3c",
   "metadata": {},
   "outputs": [
    {
     "data": {
      "text/html": [
       "<div>\n",
       "<style scoped>\n",
       "    .dataframe tbody tr th:only-of-type {\n",
       "        vertical-align: middle;\n",
       "    }\n",
       "\n",
       "    .dataframe tbody tr th {\n",
       "        vertical-align: top;\n",
       "    }\n",
       "\n",
       "    .dataframe thead th {\n",
       "        text-align: right;\n",
       "    }\n",
       "</style>\n",
       "<table border=\"1\" class=\"dataframe\">\n",
       "  <thead>\n",
       "    <tr style=\"text-align: right;\">\n",
       "      <th></th>\n",
       "      <th>RS</th>\n",
       "      <th>RA</th>\n",
       "      <th>W</th>\n",
       "    </tr>\n",
       "  </thead>\n",
       "  <tbody>\n",
       "    <tr>\n",
       "      <th>0</th>\n",
       "      <td>734</td>\n",
       "      <td>688</td>\n",
       "      <td>81</td>\n",
       "    </tr>\n",
       "  </tbody>\n",
       "</table>\n",
       "</div>"
      ],
      "text/plain": [
       "    RS   RA   W\n",
       "0  734  688  81"
      ]
     },
     "execution_count": 24,
     "metadata": {},
     "output_type": "execute_result"
    }
   ],
   "source": [
    "#Variables\n",
    "df_correlation = data[[\"RS\", \"RA\", \"W\"]]\n",
    "df_correlation.head(1)"
   ]
  },
  {
   "cell_type": "code",
   "execution_count": 25,
   "id": "9743079a",
   "metadata": {},
   "outputs": [
    {
     "data": {
      "text/html": [
       "<div>\n",
       "<style scoped>\n",
       "    .dataframe tbody tr th:only-of-type {\n",
       "        vertical-align: middle;\n",
       "    }\n",
       "\n",
       "    .dataframe tbody tr th {\n",
       "        vertical-align: top;\n",
       "    }\n",
       "\n",
       "    .dataframe thead th {\n",
       "        text-align: right;\n",
       "    }\n",
       "</style>\n",
       "<table border=\"1\" class=\"dataframe\">\n",
       "  <thead>\n",
       "    <tr style=\"text-align: right;\">\n",
       "      <th></th>\n",
       "      <th>RS</th>\n",
       "      <th>RA</th>\n",
       "      <th>W</th>\n",
       "    </tr>\n",
       "  </thead>\n",
       "  <tbody>\n",
       "    <tr>\n",
       "      <th>RS</th>\n",
       "      <td>1.000000</td>\n",
       "      <td>0.380139</td>\n",
       "      <td>0.511745</td>\n",
       "    </tr>\n",
       "    <tr>\n",
       "      <th>RA</th>\n",
       "      <td>0.380139</td>\n",
       "      <td>1.000000</td>\n",
       "      <td>-0.532394</td>\n",
       "    </tr>\n",
       "    <tr>\n",
       "      <th>W</th>\n",
       "      <td>0.511745</td>\n",
       "      <td>-0.532394</td>\n",
       "      <td>1.000000</td>\n",
       "    </tr>\n",
       "  </tbody>\n",
       "</table>\n",
       "</div>"
      ],
      "text/plain": [
       "          RS        RA         W\n",
       "RS  1.000000  0.380139  0.511745\n",
       "RA  0.380139  1.000000 -0.532394\n",
       "W   0.511745 -0.532394  1.000000"
      ]
     },
     "execution_count": 25,
     "metadata": {},
     "output_type": "execute_result"
    }
   ],
   "source": [
    "#Correlation Matrix\n",
    "\n",
    "df_correlation.corr()"
   ]
  },
  {
   "cell_type": "code",
   "execution_count": 26,
   "id": "24fcc6bd",
   "metadata": {},
   "outputs": [
    {
     "data": {
      "text/plain": [
       "<Axes: >"
      ]
     },
     "execution_count": 26,
     "metadata": {},
     "output_type": "execute_result"
    },
    {
     "data": {
      "image/png": "[encoded data removed]",
      "text/plain": [
       "<Figure size 640x480 with 2 Axes>"
      ]
     },
     "metadata": {},
     "output_type": "display_data"
    }
   ],
   "source": [
    "#Graph(Heatmap)\n",
    "sns.heatmap(data = df_correlation.corr(), annot= True, fmt = '.2g')\n"
   ]
  },
  {
   "cell_type": "code",
   "execution_count": 27,
   "id": "6e33d09e",
   "metadata": {},
   "outputs": [
    {
     "data": {
      "text/plain": [
       "<Axes: >"
      ]
     },
     "execution_count": 27,
     "metadata": {},
     "output_type": "execute_result"
    },
    {
     "data": {
      "image/png": "[encoded data removed]",
      "text/plain": [
       "<Figure size 640x480 with 2 Axes>"
      ]
     },
     "metadata": {},
     "output_type": "display_data"
    }
   ],
   "source": [
    "sns.heatmap(data = df_correlation.corr(), annot= True, fmt = '.2g', center= 0)"
   ]
  },
  {
   "cell_type": "markdown",
   "id": "0577aab4",
   "metadata": {},
   "source": [
    "distinguish better 1-0-(-1)\n",
    "However may be can use cmap or linewidths, lincolor to show better border.."
   ]
  },
  {
   "cell_type": "markdown",
   "id": "ae8bb34a",
   "metadata": {},
   "source": [
    "**Exercise : correlation matrix between OBP, SLG and BA**"
   ]
  },
  {
   "cell_type": "code",
   "execution_count": 28,
   "id": "c6014574",
   "metadata": {},
   "outputs": [
    {
     "data": {
      "text/html": [
       "<div>\n",
       "<style scoped>\n",
       "    .dataframe tbody tr th:only-of-type {\n",
       "        vertical-align: middle;\n",
       "    }\n",
       "\n",
       "    .dataframe tbody tr th {\n",
       "        vertical-align: top;\n",
       "    }\n",
       "\n",
       "    .dataframe thead th {\n",
       "        text-align: right;\n",
       "    }\n",
       "</style>\n",
       "<table border=\"1\" class=\"dataframe\">\n",
       "  <thead>\n",
       "    <tr style=\"text-align: right;\">\n",
       "      <th></th>\n",
       "      <th>OBP</th>\n",
       "      <th>SLG</th>\n",
       "      <th>BA</th>\n",
       "    </tr>\n",
       "  </thead>\n",
       "  <tbody>\n",
       "    <tr>\n",
       "      <th>0</th>\n",
       "      <td>0.328</td>\n",
       "      <td>0.418</td>\n",
       "      <td>0.259</td>\n",
       "    </tr>\n",
       "  </tbody>\n",
       "</table>\n",
       "</div>"
      ],
      "text/plain": [
       "     OBP    SLG     BA\n",
       "0  0.328  0.418  0.259"
      ]
     },
     "execution_count": 28,
     "metadata": {},
     "output_type": "execute_result"
    }
   ],
   "source": [
    "#Variables\n",
    "df_correlation_E = data[[\"OBP\", \"SLG\", \"BA\"]]\n",
    "df_correlation_E.head(1)"
   ]
  },
  {
   "cell_type": "code",
   "execution_count": 29,
   "id": "eb39030b",
   "metadata": {},
   "outputs": [
    {
     "data": {
      "text/html": [
       "<div>\n",
       "<style scoped>\n",
       "    .dataframe tbody tr th:only-of-type {\n",
       "        vertical-align: middle;\n",
       "    }\n",
       "\n",
       "    .dataframe tbody tr th {\n",
       "        vertical-align: top;\n",
       "    }\n",
       "\n",
       "    .dataframe thead th {\n",
       "        text-align: right;\n",
       "    }\n",
       "</style>\n",
       "<table border=\"1\" class=\"dataframe\">\n",
       "  <thead>\n",
       "    <tr style=\"text-align: right;\">\n",
       "      <th></th>\n",
       "      <th>OBP</th>\n",
       "      <th>SLG</th>\n",
       "      <th>BA</th>\n",
       "    </tr>\n",
       "  </thead>\n",
       "  <tbody>\n",
       "    <tr>\n",
       "      <th>OBP</th>\n",
       "      <td>1.000000</td>\n",
       "      <td>0.790910</td>\n",
       "      <td>0.851958</td>\n",
       "    </tr>\n",
       "    <tr>\n",
       "      <th>SLG</th>\n",
       "      <td>0.790910</td>\n",
       "      <td>1.000000</td>\n",
       "      <td>0.790481</td>\n",
       "    </tr>\n",
       "    <tr>\n",
       "      <th>BA</th>\n",
       "      <td>0.851958</td>\n",
       "      <td>0.790481</td>\n",
       "      <td>1.000000</td>\n",
       "    </tr>\n",
       "  </tbody>\n",
       "</table>\n",
       "</div>"
      ],
      "text/plain": [
       "          OBP       SLG        BA\n",
       "OBP  1.000000  0.790910  0.851958\n",
       "SLG  0.790910  1.000000  0.790481\n",
       "BA   0.851958  0.790481  1.000000"
      ]
     },
     "execution_count": 29,
     "metadata": {},
     "output_type": "execute_result"
    }
   ],
   "source": [
    "df_correlation_E.corr()"
   ]
  },
  {
   "cell_type": "code",
   "execution_count": 30,
   "id": "758be60a",
   "metadata": {},
   "outputs": [
    {
     "data": {
      "text/plain": [
       "<Axes: >"
      ]
     },
     "execution_count": 30,
     "metadata": {},
     "output_type": "execute_result"
    },
    {
     "data": {
      "image/png": "[encoded data removed]",
      "text/plain": [
       "<Figure size 640x480 with 2 Axes>"
      ]
     },
     "metadata": {},
     "output_type": "display_data"
    }
   ],
   "source": [
    "sns.heatmap(df_correlation_E)"
   ]
  },
  {
   "cell_type": "code",
   "execution_count": 31,
   "id": "3d4593da",
   "metadata": {},
   "outputs": [
    {
     "data": {
      "text/plain": [
       "<Axes: >"
      ]
     },
     "execution_count": 31,
     "metadata": {},
     "output_type": "execute_result"
    },
    {
     "data": {
      "image/png": "[encoded data removed]",
      "text/plain": [
       "<Figure size 640x480 with 2 Axes>"
      ]
     },
     "metadata": {},
     "output_type": "display_data"
    }
   ],
   "source": [
    "sns.heatmap(df_correlation_E.corr(), annot= True, fmt = '.2g')"
   ]
  },
  {
   "cell_type": "code",
   "execution_count": 32,
   "id": "c81a478b",
   "metadata": {},
   "outputs": [
    {
     "data": {
      "text/plain": [
       "<Axes: >"
      ]
     },
     "execution_count": 32,
     "metadata": {},
     "output_type": "execute_result"
    },
    {
     "data": {
      "image/png": "[encoded data removed]",
      "text/plain": [
       "<Figure size 640x480 with 2 Axes>"
      ]
     },
     "metadata": {},
     "output_type": "display_data"
    }
   ],
   "source": [
    "sns.heatmap(df_correlation_E.corr(), annot= True, fmt = '.2g', center= 0)"
   ]
  },
  {
   "cell_type": "markdown",
   "id": "4031bb95",
   "metadata": {},
   "source": [
    "# Standard Deviation"
   ]
  },
  {
   "cell_type": "markdown",
   "id": "8cecde86",
   "metadata": {},
   "source": [
    "$$\n",
    "\\sigma = \\sqrt{\\frac{\\sum (x_i - \\bar{x})^2}{n}}\n",
    "$$\n"
   ]
  },
  {
   "cell_type": "code",
   "execution_count": 36,
   "id": "e2fd24d3",
   "metadata": {},
   "outputs": [
    {
     "name": "stdout",
     "output_type": "stream",
     "text": [
      "0.3322642857142857\n"
     ]
    },
    {
     "data": {
      "text/plain": [
       "np.float64(0.015295316041389943)"
      ]
     },
     "execution_count": 36,
     "metadata": {},
     "output_type": "execute_result"
    }
   ],
   "source": [
    "print(data.OOBP.mean())\n",
    "data.OOBP.std()"
   ]
  },
  {
   "cell_type": "markdown",
   "id": "8811b953",
   "metadata": {},
   "source": [
    "Exercise : Standard Deviation of BA"
   ]
  },
  {
   "cell_type": "code",
   "execution_count": 38,
   "id": "3677e05c",
   "metadata": {},
   "outputs": [
    {
     "name": "stdout",
     "output_type": "stream",
     "text": [
      "0.25927272727272727\n"
     ]
    },
    {
     "data": {
      "text/plain": [
       "np.float64(0.012907228928000314)"
      ]
     },
     "execution_count": 38,
     "metadata": {},
     "output_type": "execute_result"
    }
   ],
   "source": [
    "print(data.BA.mean())\n",
    "data.BA.std()"
   ]
  }
 ],
 "metadata": {
  "kernelspec": {
   "display_name": ".venv (3.11.5)",
   "language": "python",
   "name": "python3"
  },
  "language_info": {
   "codemirror_mode": {
    "name": "ipython",
    "version": 3
   },
   "file_extension": ".py",
   "mimetype": "text/x-python",
   "name": "python",
   "nbconvert_exporter": "python",
   "pygments_lexer": "ipython3",
   "version": "3.11.5"
  }
 },
 "nbformat": 4,
 "nbformat_minor": 5
}
