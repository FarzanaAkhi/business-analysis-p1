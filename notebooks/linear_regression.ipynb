{
 "cells": [
  {
   "cell_type": "code",
   "execution_count": 2,
   "id": "3122076b",
   "metadata": {},
   "outputs": [],
   "source": [
    "import statsmodels.api as sm \n",
    "import matplotlib.pyplot as plt\n",
    "import numpy as np\n",
    "import pandas as pd"
   ]
  },
  {
   "cell_type": "markdown",
   "id": "00901db1",
   "metadata": {},
   "source": [
    "# Linear Regression\n",
    "\n",
    "# $Y = a + b * X + e$\n"
   ]
  },
  {
   "cell_type": "code",
   "execution_count": 3,
   "id": "08132c69",
   "metadata": {},
   "outputs": [
    {
     "data": {
      "text/html": [
       "<div>\n",
       "<style scoped>\n",
       "    .dataframe tbody tr th:only-of-type {\n",
       "        vertical-align: middle;\n",
       "    }\n",
       "\n",
       "    .dataframe tbody tr th {\n",
       "        vertical-align: top;\n",
       "    }\n",
       "\n",
       "    .dataframe thead th {\n",
       "        text-align: right;\n",
       "    }\n",
       "</style>\n",
       "<table border=\"1\" class=\"dataframe\">\n",
       "  <thead>\n",
       "    <tr style=\"text-align: right;\">\n",
       "      <th></th>\n",
       "      <th>Unnamed: 0</th>\n",
       "      <th>carat</th>\n",
       "      <th>colour</th>\n",
       "      <th>clarity</th>\n",
       "      <th>certification</th>\n",
       "      <th>price</th>\n",
       "    </tr>\n",
       "  </thead>\n",
       "  <tbody>\n",
       "    <tr>\n",
       "      <th>0</th>\n",
       "      <td>1</td>\n",
       "      <td>0.30</td>\n",
       "      <td>D</td>\n",
       "      <td>VS2</td>\n",
       "      <td>GIA</td>\n",
       "      <td>1302</td>\n",
       "    </tr>\n",
       "    <tr>\n",
       "      <th>1</th>\n",
       "      <td>2</td>\n",
       "      <td>0.30</td>\n",
       "      <td>E</td>\n",
       "      <td>VS1</td>\n",
       "      <td>GIA</td>\n",
       "      <td>1510</td>\n",
       "    </tr>\n",
       "    <tr>\n",
       "      <th>2</th>\n",
       "      <td>3</td>\n",
       "      <td>0.30</td>\n",
       "      <td>G</td>\n",
       "      <td>VVS1</td>\n",
       "      <td>GIA</td>\n",
       "      <td>1510</td>\n",
       "    </tr>\n",
       "    <tr>\n",
       "      <th>3</th>\n",
       "      <td>4</td>\n",
       "      <td>0.30</td>\n",
       "      <td>G</td>\n",
       "      <td>VS1</td>\n",
       "      <td>GIA</td>\n",
       "      <td>1260</td>\n",
       "    </tr>\n",
       "    <tr>\n",
       "      <th>4</th>\n",
       "      <td>5</td>\n",
       "      <td>0.31</td>\n",
       "      <td>D</td>\n",
       "      <td>VS1</td>\n",
       "      <td>GIA</td>\n",
       "      <td>1641</td>\n",
       "    </tr>\n",
       "    <tr>\n",
       "      <th>...</th>\n",
       "      <td>...</td>\n",
       "      <td>...</td>\n",
       "      <td>...</td>\n",
       "      <td>...</td>\n",
       "      <td>...</td>\n",
       "      <td>...</td>\n",
       "    </tr>\n",
       "    <tr>\n",
       "      <th>303</th>\n",
       "      <td>304</td>\n",
       "      <td>1.01</td>\n",
       "      <td>I</td>\n",
       "      <td>VS1</td>\n",
       "      <td>HRD</td>\n",
       "      <td>8175</td>\n",
       "    </tr>\n",
       "    <tr>\n",
       "      <th>304</th>\n",
       "      <td>305</td>\n",
       "      <td>1.02</td>\n",
       "      <td>F</td>\n",
       "      <td>VVS2</td>\n",
       "      <td>HRD</td>\n",
       "      <td>10796</td>\n",
       "    </tr>\n",
       "    <tr>\n",
       "      <th>305</th>\n",
       "      <td>306</td>\n",
       "      <td>1.06</td>\n",
       "      <td>H</td>\n",
       "      <td>VVS2</td>\n",
       "      <td>HRD</td>\n",
       "      <td>9890</td>\n",
       "    </tr>\n",
       "    <tr>\n",
       "      <th>306</th>\n",
       "      <td>307</td>\n",
       "      <td>1.02</td>\n",
       "      <td>H</td>\n",
       "      <td>VS2</td>\n",
       "      <td>HRD</td>\n",
       "      <td>8959</td>\n",
       "    </tr>\n",
       "    <tr>\n",
       "      <th>307</th>\n",
       "      <td>308</td>\n",
       "      <td>1.09</td>\n",
       "      <td>I</td>\n",
       "      <td>VVS2</td>\n",
       "      <td>HRD</td>\n",
       "      <td>9107</td>\n",
       "    </tr>\n",
       "  </tbody>\n",
       "</table>\n",
       "<p>308 rows × 6 columns</p>\n",
       "</div>"
      ],
      "text/plain": [
       "     Unnamed: 0  carat colour clarity certification  price\n",
       "0             1   0.30      D     VS2           GIA   1302\n",
       "1             2   0.30      E     VS1           GIA   1510\n",
       "2             3   0.30      G    VVS1           GIA   1510\n",
       "3             4   0.30      G     VS1           GIA   1260\n",
       "4             5   0.31      D     VS1           GIA   1641\n",
       "..          ...    ...    ...     ...           ...    ...\n",
       "303         304   1.01      I     VS1           HRD   8175\n",
       "304         305   1.02      F    VVS2           HRD  10796\n",
       "305         306   1.06      H    VVS2           HRD   9890\n",
       "306         307   1.02      H     VS2           HRD   8959\n",
       "307         308   1.09      I    VVS2           HRD   9107\n",
       "\n",
       "[308 rows x 6 columns]"
      ]
     },
     "execution_count": 3,
     "metadata": {},
     "output_type": "execute_result"
    }
   ],
   "source": [
    "data = pd.read_csv(\"C:\\\\Users\\\\Farzana Saif\\\\Downloads\\\\diamond.csv\")\n",
    "data"
   ]
  },
  {
   "cell_type": "code",
   "execution_count": 4,
   "id": "b909d377",
   "metadata": {},
   "outputs": [
    {
     "data": {
      "text/plain": [
       "(308, 6)"
      ]
     },
     "execution_count": 4,
     "metadata": {},
     "output_type": "execute_result"
    }
   ],
   "source": [
    "data.shape"
   ]
  },
  {
   "cell_type": "code",
   "execution_count": 5,
   "id": "7379ae2e",
   "metadata": {},
   "outputs": [
    {
     "data": {
      "text/plain": [
       "Index(['Unnamed: 0', 'carat', 'colour', 'clarity', 'certification', 'price'], dtype='object')"
      ]
     },
     "execution_count": 5,
     "metadata": {},
     "output_type": "execute_result"
    }
   ],
   "source": [
    "data.columns"
   ]
  },
  {
   "cell_type": "code",
   "execution_count": 6,
   "id": "c6af5709",
   "metadata": {},
   "outputs": [
    {
     "data": {
      "text/html": [
       "<div>\n",
       "<style scoped>\n",
       "    .dataframe tbody tr th:only-of-type {\n",
       "        vertical-align: middle;\n",
       "    }\n",
       "\n",
       "    .dataframe tbody tr th {\n",
       "        vertical-align: top;\n",
       "    }\n",
       "\n",
       "    .dataframe thead th {\n",
       "        text-align: right;\n",
       "    }\n",
       "</style>\n",
       "<table border=\"1\" class=\"dataframe\">\n",
       "  <thead>\n",
       "    <tr style=\"text-align: right;\">\n",
       "      <th></th>\n",
       "      <th>count</th>\n",
       "      <th>mean</th>\n",
       "      <th>std</th>\n",
       "      <th>min</th>\n",
       "      <th>25%</th>\n",
       "      <th>50%</th>\n",
       "      <th>75%</th>\n",
       "      <th>max</th>\n",
       "    </tr>\n",
       "  </thead>\n",
       "  <tbody>\n",
       "    <tr>\n",
       "      <th>Unnamed: 0</th>\n",
       "      <td>308.0</td>\n",
       "      <td>154.500000</td>\n",
       "      <td>89.056162</td>\n",
       "      <td>1.00</td>\n",
       "      <td>77.75</td>\n",
       "      <td>154.50</td>\n",
       "      <td>231.25</td>\n",
       "      <td>308.0</td>\n",
       "    </tr>\n",
       "    <tr>\n",
       "      <th>carat</th>\n",
       "      <td>308.0</td>\n",
       "      <td>0.630909</td>\n",
       "      <td>0.277183</td>\n",
       "      <td>0.18</td>\n",
       "      <td>0.35</td>\n",
       "      <td>0.62</td>\n",
       "      <td>0.85</td>\n",
       "      <td>1.1</td>\n",
       "    </tr>\n",
       "    <tr>\n",
       "      <th>price</th>\n",
       "      <td>308.0</td>\n",
       "      <td>5019.483766</td>\n",
       "      <td>3403.115715</td>\n",
       "      <td>638.00</td>\n",
       "      <td>1625.00</td>\n",
       "      <td>4215.00</td>\n",
       "      <td>7446.00</td>\n",
       "      <td>16008.0</td>\n",
       "    </tr>\n",
       "  </tbody>\n",
       "</table>\n",
       "</div>"
      ],
      "text/plain": [
       "            count         mean          std     min      25%      50%  \\\n",
       "Unnamed: 0  308.0   154.500000    89.056162    1.00    77.75   154.50   \n",
       "carat       308.0     0.630909     0.277183    0.18     0.35     0.62   \n",
       "price       308.0  5019.483766  3403.115715  638.00  1625.00  4215.00   \n",
       "\n",
       "                75%      max  \n",
       "Unnamed: 0   231.25    308.0  \n",
       "carat          0.85      1.1  \n",
       "price       7446.00  16008.0  "
      ]
     },
     "execution_count": 6,
     "metadata": {},
     "output_type": "execute_result"
    }
   ],
   "source": [
    "data.describe().T"
   ]
  },
  {
   "cell_type": "code",
   "execution_count": 7,
   "id": "eba81c7b",
   "metadata": {},
   "outputs": [
    {
     "data": {
      "text/plain": [
       "Unnamed: 0         int64\n",
       "carat            float64\n",
       "colour            object\n",
       "clarity           object\n",
       "certification     object\n",
       "price              int64\n",
       "dtype: object"
      ]
     },
     "execution_count": 7,
     "metadata": {},
     "output_type": "execute_result"
    }
   ],
   "source": [
    "data.dtypes"
   ]
  },
  {
   "cell_type": "code",
   "execution_count": 8,
   "id": "62beea01",
   "metadata": {},
   "outputs": [],
   "source": [
    "#isolate X and Y\n",
    "y = data.price\n",
    "X = data.carat\n"
   ]
  },
  {
   "cell_type": "code",
   "execution_count": 9,
   "id": "73cec73f",
   "metadata": {},
   "outputs": [
    {
     "data": {
      "text/html": [
       "<div>\n",
       "<style scoped>\n",
       "    .dataframe tbody tr th:only-of-type {\n",
       "        vertical-align: middle;\n",
       "    }\n",
       "\n",
       "    .dataframe tbody tr th {\n",
       "        vertical-align: top;\n",
       "    }\n",
       "\n",
       "    .dataframe thead th {\n",
       "        text-align: right;\n",
       "    }\n",
       "</style>\n",
       "<table border=\"1\" class=\"dataframe\">\n",
       "  <thead>\n",
       "    <tr style=\"text-align: right;\">\n",
       "      <th></th>\n",
       "      <th>const</th>\n",
       "      <th>carat</th>\n",
       "    </tr>\n",
       "  </thead>\n",
       "  <tbody>\n",
       "    <tr>\n",
       "      <th>0</th>\n",
       "      <td>1.0</td>\n",
       "      <td>0.3</td>\n",
       "    </tr>\n",
       "    <tr>\n",
       "      <th>1</th>\n",
       "      <td>1.0</td>\n",
       "      <td>0.3</td>\n",
       "    </tr>\n",
       "  </tbody>\n",
       "</table>\n",
       "</div>"
      ],
      "text/plain": [
       "   const  carat\n",
       "0    1.0    0.3\n",
       "1    1.0    0.3"
      ]
     },
     "execution_count": 9,
     "metadata": {},
     "output_type": "execute_result"
    }
   ],
   "source": [
    "X = sm.add_constant(X)\n",
    "X.head(2)"
   ]
  },
  {
   "cell_type": "code",
   "execution_count": 10,
   "id": "faa43aae",
   "metadata": {},
   "outputs": [
    {
     "name": "stdout",
     "output_type": "stream",
     "text": [
      "                            OLS Regression Results                            \n",
      "==============================================================================\n",
      "Dep. Variable:                  price   R-squared:                       0.893\n",
      "Model:                            OLS   Adj. R-squared:                  0.892\n",
      "Method:                 Least Squares   F-statistic:                     2541.\n",
      "Date:                Thu, 04 Sep 2025   Prob (F-statistic):          3.04e-150\n",
      "Time:                        22:31:51   Log-Likelihood:                -2597.9\n",
      "No. Observations:                 308   AIC:                             5200.\n",
      "Df Residuals:                     306   BIC:                             5207.\n",
      "Df Model:                           1                                         \n",
      "Covariance Type:            nonrobust                                         \n",
      "==============================================================================\n",
      "                 coef    std err          t      P>|t|      [0.025      0.975]\n",
      "------------------------------------------------------------------------------\n",
      "const      -2298.3576    158.531    -14.498      0.000   -2610.306   -1986.410\n",
      "carat        1.16e+04    230.111     50.406      0.000    1.11e+04    1.21e+04\n",
      "==============================================================================\n",
      "Omnibus:                      170.301   Durbin-Watson:                   1.216\n",
      "Prob(Omnibus):                  0.000   Jarque-Bera (JB):             1324.411\n",
      "Skew:                           2.168   Prob(JB):                    2.56e-288\n",
      "Kurtosis:                      12.187   Cond. No.                         5.13\n",
      "==============================================================================\n",
      "\n",
      "Notes:\n",
      "[1] Standard Errors assume that the covariance matrix of the errors is correctly specified.\n"
     ]
    }
   ],
   "source": [
    "#Regression Model\n",
    "model1 = sm.OLS(endog = y, exog =X). fit() \n",
    "print ( model1.summary())"
   ]
  }
 ],
 "metadata": {
  "kernelspec": {
   "display_name": ".venv (3.11.5)",
   "language": "python",
   "name": "python3"
  },
  "language_info": {
   "codemirror_mode": {
    "name": "ipython",
    "version": 3
   },
   "file_extension": ".py",
   "mimetype": "text/x-python",
   "name": "python",
   "nbconvert_exporter": "python",
   "pygments_lexer": "ipython3",
   "version": "3.11.5"
  }
 },
 "nbformat": 4,
 "nbformat_minor": 5
}
