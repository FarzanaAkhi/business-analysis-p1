{
 "cells": [
  {
   "cell_type": "markdown",
   "id": "00901db1",
   "metadata": {},
   "source": [
    "# Linear Regression"
   ]
  }
 ],
 "metadata": {
  "language_info": {
   "name": "python"
  }
 },
 "nbformat": 4,
 "nbformat_minor": 5
}
